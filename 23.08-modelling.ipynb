{
 "cells": [
  {
   "cell_type": "markdown",
   "metadata": {},
   "source": [
    "# Modelling"
   ]
  },
  {
   "cell_type": "code",
   "execution_count": null,
   "metadata": {},
   "outputs": [],
   "source": [
    "import matplotlib.pyplot as plt\n",
    "import numpy as np\n",
    "import pandas as pd\n",
    "import ipywidgets as widgets\n",
    "from scipy.integrate import solve_ivp\n",
    "from ipywidgets import interactive\n",
    "\n",
    "def integrate(model, y0, parameters, t_end, n_points=100):\n",
    "    sol = solve_ivp(\n",
    "        lambda _, y, *args: model(*y, *args),\n",
    "        args=parameters,\n",
    "        y0=list(y0.values()),\n",
    "        t_span=(0, t_end),\n",
    "        t_eval=np.linspace(0, t_end, n_points),\n",
    "        method=\"LSODA\",\n",
    "    )\n",
    "    return pd.DataFrame(sol.y.T, index=sol.t, columns=y0.keys())\n"
   ]
  },
  {
   "cell_type": "code",
   "execution_count": null,
   "metadata": {},
   "outputs": [],
   "source": [
    "def exponential_growth(N, r):\n",
    "    \"\"\"\n",
    "    N: size of the population at time t\n",
    "    r: growth rate in hours\n",
    "    \"\"\"\n",
    "    return r * N\n"
   ]
  },
  {
   "cell_type": "code",
   "execution_count": null,
   "metadata": {},
   "outputs": [],
   "source": [
    "df = integrate(\n",
    "    exponential_growth,\n",
    "    y0={\"Population\": 1.0},\n",
    "    parameters=(2,),\n",
    "    t_end=5,\n",
    ")\n",
    "\n",
    "df.plot(\n",
    "    xlabel=\"Time / days\",\n",
    "    ylabel=\"Population\",\n",
    "    title=\"My fancy title\",\n",
    "    grid=True,\n",
    ")\n",
    "plt.savefig(\"exponential-growth.png\", dpi=300)"
   ]
  },
  {
   "cell_type": "code",
   "execution_count": null,
   "metadata": {},
   "outputs": [],
   "source": [
    "for r in [1, 0.5, 0.1]:\n",
    "    df = integrate(\n",
    "        exponential_growth,\n",
    "        y0={\"Population\": 1.0},\n",
    "        parameters=(r,),\n",
    "        t_end=5,\n",
    "    )\n",
    "\n",
    "    df.plot(\n",
    "        xlabel=\"Time / days\",\n",
    "        ylabel=\"Population\",\n",
    "        title=\"My fancy title\",\n",
    "        grid=True,\n",
    "    )"
   ]
  },
  {
   "cell_type": "code",
   "execution_count": null,
   "metadata": {},
   "outputs": [],
   "source": [
    "fig, ax = plt.subplots()\n",
    "for r in [0.1, 0.5, 1]:\n",
    "    df = integrate(\n",
    "        exponential_growth,\n",
    "        y0={\"Population\": 1.0},\n",
    "        parameters=(r,),\n",
    "        t_end=5,\n",
    "    )\n",
    "\n",
    "    df.plot(xlabel=\"Time / days\", ylabel=\"Population\", title=\"My fancy title\", grid=True, ax=ax)"
   ]
  },
  {
   "cell_type": "code",
   "execution_count": null,
   "metadata": {},
   "outputs": [],
   "source": [
    "fig, ax = plt.subplots()\n",
    "rs = [0.1, 0.5, 1]\n",
    "for r in rs:\n",
    "    df = integrate(\n",
    "        exponential_growth,\n",
    "        y0={\"Population\": 1.0},\n",
    "        parameters=(r,),\n",
    "        t_end=5,\n",
    "    )\n",
    "\n",
    "    df.plot(\n",
    "        xlabel=\"Time / days\",\n",
    "        ylabel=\"Population\",\n",
    "        title=\"My fancy title\",\n",
    "        grid=True,\n",
    "        ax=ax,\n",
    "    )\n",
    "ax.legend(rs)"
   ]
  },
  {
   "cell_type": "code",
   "execution_count": null,
   "metadata": {},
   "outputs": [],
   "source": [
    "fig, ax = plt.subplots()\n",
    "for r in [0.1, 0.5, 1]:\n",
    "    df = integrate(\n",
    "        exponential_growth,\n",
    "        y0={\"Population\": 1.0},\n",
    "        parameters=(r,),\n",
    "        t_end=5,\n",
    "    )\n",
    "    ax.plot(df, label=r)\n",
    "\n",
    "ax.set_xlabel(\"Time / days\")\n",
    "ax.set_ylabel(\"Population\")\n",
    "ax.set_title(\"My fancy title\")\n",
    "ax.grid(True)\n",
    "ax.legend()"
   ]
  },
  {
   "cell_type": "code",
   "execution_count": null,
   "metadata": {},
   "outputs": [],
   "source": [
    "results = {}\n",
    "for r in [0.1, 0.5, 1]:\n",
    "    results[r] = integrate(\n",
    "        exponential_growth,\n",
    "        y0={\"Population\": 1.0},\n",
    "        parameters=(r,),\n",
    "        t_end=5,\n",
    "    )\n"
   ]
  },
  {
   "cell_type": "code",
   "execution_count": null,
   "metadata": {},
   "outputs": [],
   "source": [
    "dfs = pd.concat(results, axis=1)\n"
   ]
  },
  {
   "cell_type": "code",
   "execution_count": null,
   "metadata": {},
   "outputs": [],
   "source": [
    "dfs.loc[3:3.04]\n"
   ]
  },
  {
   "cell_type": "code",
   "execution_count": null,
   "metadata": {},
   "outputs": [],
   "source": [
    "# df = integrate(\n",
    "#     exponential_growth,\n",
    "#     y0={\"Population\": 1.0},\n",
    "#     parameters=(100,),\n",
    "#     t_end=10,\n",
    "# )\n",
    "\n",
    "# df.plot(\n",
    "#     xlabel=\"Time / days\",\n",
    "#     ylabel=\"Population\",\n",
    "#     title=\"My fancy title\",\n",
    "#     grid=True,\n",
    "# )"
   ]
  },
  {
   "cell_type": "code",
   "execution_count": null,
   "metadata": {},
   "outputs": [],
   "source": [
    "def logistic_growth(N, r, K):\n",
    "    \"\"\"\n",
    "    N: population size\n",
    "    r: growth rate\n",
    "    K: carrying capacity\n",
    "    \"\"\"\n",
    "    return r * N * (1 - N / K)\n",
    "\n",
    "\n",
    "(\n",
    "    integrate(\n",
    "        logistic_growth,\n",
    "        y0={\"Population\": 1.0},\n",
    "        parameters=(2, 1000),\n",
    "        t_end=15,\n",
    "    ).plot(\n",
    "        xlabel=\"Time / days\",\n",
    "        ylabel=\"Population\",\n",
    "    )\n",
    ")\n",
    "\n",
    "# k/2"
   ]
  },
  {
   "cell_type": "markdown",
   "metadata": {},
   "source": [
    "# Exercise\n",
    "\n",
    "Change the initial condition to\n",
    "\n",
    "- 1\n",
    "- K / 2\n",
    "- K\n",
    "- 3 / 2 K \n",
    "\n",
    "and plot all curves on one axis. What do you observe?"
   ]
  },
  {
   "cell_type": "code",
   "execution_count": null,
   "metadata": {},
   "outputs": [],
   "source": [
    "# changing the initial conditions\n",
    "fig, ax = plt.subplots()\n",
    "for a in [0, 1, 500, 1000, 1500]:\n",
    "    df = integrate(\n",
    "        logistic_growth,\n",
    "        y0={\"Population\": a},\n",
    "        parameters=(2, 1000),\n",
    "        t_end=20,\n",
    "    )\n",
    "    ax.plot(df, label=a)\n",
    "\n",
    "ax.set_xlabel(\"Time / days\")\n",
    "ax.set_ylabel(\"Population\")\n",
    "ax.set_title(\"Logistic growth\")\n",
    "ax.grid(True)\n",
    "ax.legend()"
   ]
  },
  {
   "cell_type": "markdown",
   "metadata": {},
   "source": [
    "## Lotka - Volterra\n",
    "\n",
    "$$\\large\\begin{align}\n",
    "    \\frac{dX}{dt} &= rX - aXY \\\\\n",
    "    \\frac{dY}{dt} &= bXY - cY \\\\\n",
    "\\end{align}$$"
   ]
  },
  {
   "cell_type": "code",
   "execution_count": null,
   "metadata": {},
   "outputs": [],
   "source": [
    "def lotka_volterra(X, Y, r, a, b, c):\n",
    "    \"\"\"\n",
    "    this is a simple toy odel for population\n",
    "    X: prey\n",
    "    Y: predator\n",
    "    \"\"\"\n",
    "    dX = r * X - a * X * Y\n",
    "    dY = b * X * Y - c * Y\n",
    "    return (dX, dY)\n",
    "\n",
    "\n",
    "Susan = integrate(\n",
    "    lotka_volterra,\n",
    "    y0={\"gazelles\": 1.0, \"lions\": 1.0},\n",
    "    parameters=(1, 2.5, 0.5, 2),\n",
    "    t_end=100,\n",
    "    n_points=10000,\n",
    ")\n",
    "_ = Susan.plot()\n"
   ]
  },
  {
   "cell_type": "code",
   "execution_count": null,
   "metadata": {},
   "outputs": [],
   "source": [
    "Susan.plot(x=\"gazelles\", y=\"lions\", ylabel=\"lions\")"
   ]
  },
  {
   "cell_type": "code",
   "execution_count": null,
   "metadata": {},
   "outputs": [],
   "source": [
    "def lotka_volterra_with_capacity(X, Y, r, a, b, c, K):\n",
    "    \"\"\"\n",
    "    this is a simple toy odel for population\n",
    "    X: prey\n",
    "    Y: predator\n",
    "    \"\"\"\n",
    "    dX = r * X * (1  -X / K) - a * X * Y\n",
    "    dY = b * X * Y - c * Y\n",
    "    return (dX, dY)\n",
    "\n",
    "\n",
    "Susan = integrate(\n",
    "    lotka_volterra_with_capacity,\n",
    "    y0={\"gazelles\": 1.0, \"lions\": 1.0},\n",
    "    parameters=(1, 2.5, 0.5, 2, 10),\n",
    "    t_end=100,\n",
    "    n_points=10000,\n",
    ")\n",
    "_ = Susan.plot()\n"
   ]
  },
  {
   "cell_type": "markdown",
   "metadata": {},
   "source": [
    "## SIR"
   ]
  },
  {
   "cell_type": "code",
   "execution_count": null,
   "metadata": {},
   "outputs": [],
   "source": [
    "def sir(S, I, R, a, b):\n",
    "    return (-a * S * I, a * S * I - b * I, b * I)\n",
    "\n",
    "\n",
    "Susan = integrate(\n",
    "    sir,\n",
    "    y0={\"S\": 36.0, \"I\": 1.0, \"R\": 0},\n",
    "    parameters=(0.02, 0.001),\n",
    "    t_end=5000,\n",
    "    n_points=10000,\n",
    ")\n",
    "Susan.plot(\n",
    "    xlabel=\"time/months\",\n",
    "    ylabel=\"Human Population\",\n",
    "    title=\"A plot of a Non-communicable disease\",\n",
    ")"
   ]
  },
  {
   "cell_type": "code",
   "execution_count": null,
   "metadata": {},
   "outputs": [],
   "source": [
    "def f(a, b):\n",
    "    integrate(\n",
    "        sir,\n",
    "        y0={\"S\": 36.0, \"I\": 1.0, \"R\": 0},\n",
    "        parameters=(a, b),\n",
    "        t_end=5000,\n",
    "        n_points=10000,\n",
    "    ).plot()\n",
    "    plt.show()\n",
    "\n",
    "\n",
    "interactive_plot = interactive(\n",
    "    f,\n",
    "    a=widgets.FloatSlider(\n",
    "        value=0.001,\n",
    "        min=1e-4,\n",
    "        max=1e-3,\n",
    "        step=1e-4,\n",
    "        readout_format=\".1e\",\n",
    "    ),\n",
    "    b=widgets.FloatSlider(\n",
    "        value=0.001,\n",
    "        min=1e-4,\n",
    "        max=1e-3,\n",
    "        step=1e-4,\n",
    "        readout_format=\".1e\",\n",
    "    ),\n",
    ")\n",
    "output = interactive_plot.children[-1]\n",
    "output.layout.height = \"350px\"\n",
    "interactive_plot"
   ]
  }
 ],
 "metadata": {
  "kernelspec": {
   "display_name": "Python 3 (ipykernel)",
   "language": "python",
   "name": "python3"
  },
  "language_info": {
   "codemirror_mode": {
    "name": "ipython",
    "version": 3
   },
   "file_extension": ".py",
   "mimetype": "text/x-python",
   "name": "python",
   "nbconvert_exporter": "python",
   "pygments_lexer": "ipython3",
   "version": "3.11.0"
  }
 },
 "nbformat": 4,
 "nbformat_minor": 2
}
