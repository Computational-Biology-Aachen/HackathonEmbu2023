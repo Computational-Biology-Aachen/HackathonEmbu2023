{
 "cells": [
  {
   "cell_type": "code",
   "execution_count": null,
   "metadata": {},
   "outputs": [],
   "source": [
    "# Missing parenteses\n",
    "print \"Hello World\""
   ]
  },
  {
   "cell_type": "code",
   "execution_count": null,
   "metadata": {},
   "outputs": [],
   "source": [
    "# Wrong data types\n",
    "hours = 24\n",
    "minutes = \"60\"\n",
    "\n",
    "minutes_per_day = hours * minutes"
   ]
  },
  {
   "cell_type": "code",
   "execution_count": null,
   "metadata": {},
   "outputs": [],
   "source": [
    "# Missing \":\"\n",
    "def add(x, y)\n",
    "    return x + y"
   ]
  },
  {
   "cell_type": "code",
   "execution_count": null,
   "metadata": {},
   "outputs": [],
   "source": [
    "# Indentation error\n",
    "def add(x, y):\n",
    "return x + y"
   ]
  },
  {
   "cell_type": "code",
   "execution_count": null,
   "metadata": {},
   "outputs": [],
   "source": [
    "# Operator should be !=\n",
    "def are_not_equal(a,b):\n",
    "    return a == b"
   ]
  },
  {
   "cell_type": "code",
   "execution_count": null,
   "metadata": {},
   "outputs": [],
   "source": [
    "# Operator should be **\n",
    "def square_of_both(a,b):\n",
    "    return a*2, b*2"
   ]
  },
  {
   "cell_type": "code",
   "execution_count": null,
   "metadata": {},
   "outputs": [],
   "source": [
    "def xor(p, q):\n",
    "    p and not q or not p and q # Missing return statement"
   ]
  },
  {
   "cell_type": "code",
   "execution_count": null,
   "metadata": {},
   "outputs": [],
   "source": [
    "def xor_if_else(p, q):\n",
    "    if p:\n",
    "        if q:\n",
    "            return False\n",
    "        else:\n",
    "            return False # Should be True\n",
    "    else:\n",
    "        if q:\n",
    "            return True\n",
    "        else:\n",
    "            return False"
   ]
  },
  {
   "cell_type": "code",
   "execution_count": null,
   "metadata": {},
   "outputs": [],
   "source": [
    "if it_rains():\n",
    "    pack_raincoat()\n",
    "else it_is_sunny(): # Should be elif\n",
    "    pack_tshirt()\n",
    "else:\n",
    "    pack_jacket()"
   ]
  },
  {
   "cell_type": "code",
   "execution_count": null,
   "metadata": {},
   "outputs": [],
   "source": [
    "# Should be x < 0\n",
    "def smaller_than_zero(x):\n",
    "    return x > 0"
   ]
  },
  {
   "cell_type": "code",
   "execution_count": null,
   "metadata": {},
   "outputs": [],
   "source": [
    "# Capitalisation error\n",
    "def larger_than_zero(x):\n",
    "    return x > 0\n",
    "\n",
    "larger_than_Zero(1)"
   ]
  },
  {
   "cell_type": "code",
   "execution_count": null,
   "metadata": {},
   "outputs": [],
   "source": [
    "# Trying to read tsv with csv function\n",
    "pd.read_csv(\"assets/viz_exampledata.tsv\")"
   ]
  },
  {
   "cell_type": "code",
   "execution_count": null,
   "metadata": {},
   "outputs": [],
   "source": [
    "# Select first to the tenth element\n",
    "\n",
    "df.loc[1:10] # Should be 0:10"
   ]
  },
  {
   "cell_type": "code",
   "execution_count": null,
   "metadata": {},
   "outputs": [],
   "source": [
    "# Missing closing paretheses\n",
    "df.loc[:,\"species\"].value_counts"
   ]
  },
  {
   "cell_type": "code",
   "execution_count": null,
   "metadata": {},
   "outputs": [],
   "source": [
    "# Missing brackets arounf column names\n",
    "df.loc[:,\"species\", \"year\"]"
   ]
  },
  {
   "cell_type": "code",
   "execution_count": null,
   "metadata": {},
   "outputs": [],
   "source": [
    "# \"bill_depth_mm\" has to be string\n",
    "df.loc[0:10, bill_depth_mm].mean()"
   ]
  },
  {
   "cell_type": "code",
   "execution_count": null,
   "metadata": {},
   "outputs": [],
   "source": [
    "# Comma instead of .\n",
    "df.loc[0:10, \"bill_length_mm\"],mean()"
   ]
  },
  {
   "cell_type": "code",
   "execution_count": null,
   "metadata": {},
   "outputs": [],
   "source": [
    "(\n",
    "    Plot(\n",
    "        data=penguins,\n",
    "        x=\"bill_length_mm\",\n",
    "        y=bill_depth_mm\n",
    "    )\n",
    "    .add(so.Dots()\n",
    ")"
   ]
  }
 ],
 "metadata": {
  "kernelspec": {
   "display_name": "embuws",
   "language": "python",
   "name": "python3"
  },
  "language_info": {
   "codemirror_mode": {
    "name": "ipython",
    "version": 3
   },
   "file_extension": ".py",
   "mimetype": "text/x-python",
   "name": "python",
   "nbconvert_exporter": "python",
   "pygments_lexer": "ipython3",
   "version": "3.11.4"
  }
 },
 "nbformat": 4,
 "nbformat_minor": 2
}
