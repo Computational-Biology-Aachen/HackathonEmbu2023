{
 "cells": [
  {
   "cell_type": "markdown",
   "metadata": {},
   "source": [
    "# Setting up the offline usage\n",
    "To use the course material offline, run this notebook once from start to end (at the top of the notebook you can click on `Cells` -> `All Cells`)"
   ]
  },
  {
   "cell_type": "code",
   "execution_count": null,
   "metadata": {},
   "outputs": [],
   "source": [
    "import seaborn as sns\n",
    "from pathlib import Path\n",
    "from os import listdir\n",
    "import re\n",
    "\n",
    "WORKDIR = Path(\"..\")\n",
    "ASSET_DIR = WORKDIR/\"assets\"\n",
    "\n",
    "# Download all used datasets\n",
    "sns.load_dataset(\"penguins\").to_csv(ASSET_DIR/\"penguins.csv\")\n",
    "sns.load_dataset(\"iris\").to_csv(ASSET_DIR/\"iris.csv\")\n",
    "sns.load_dataset(\"titanic\").to_csv(ASSET_DIR/\"titanic.csv\")\n"
   ]
  }
 ],
 "metadata": {
  "kernelspec": {
   "display_name": "embuws",
   "language": "python",
   "name": "python3"
  },
  "language_info": {
   "codemirror_mode": {
    "name": "ipython",
    "version": 3
   },
   "file_extension": ".py",
   "mimetype": "text/x-python",
   "name": "python",
   "nbconvert_exporter": "python",
   "pygments_lexer": "ipython3",
   "version": "3.11.4"
  }
 },
 "nbformat": 4,
 "nbformat_minor": 2
}
